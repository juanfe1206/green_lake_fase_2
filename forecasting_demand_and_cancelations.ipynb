{
 "cells": [
  {
   "cell_type": "code",
   "execution_count": 6,
   "metadata": {},
   "outputs": [
    {
     "name": "stderr",
     "output_type": "stream",
     "text": [
      "08:53:25 - cmdstanpy - INFO - Chain [1] start processing\n",
      "08:53:25 - cmdstanpy - INFO - Chain [1] done processing\n",
      "08:53:25 - cmdstanpy - INFO - Chain [1] start processing\n",
      "08:53:25 - cmdstanpy - INFO - Chain [1] done processing\n",
      "08:53:26 - cmdstanpy - INFO - Chain [1] start processing\n",
      "08:53:26 - cmdstanpy - INFO - Chain [1] done processing\n",
      "08:53:26 - cmdstanpy - INFO - Chain [1] start processing\n",
      "08:53:26 - cmdstanpy - INFO - Chain [1] done processing\n",
      "08:53:26 - cmdstanpy - INFO - Chain [1] start processing\n",
      "08:53:27 - cmdstanpy - INFO - Chain [1] done processing\n",
      "08:53:27 - cmdstanpy - INFO - Chain [1] start processing\n",
      "08:53:27 - cmdstanpy - INFO - Chain [1] done processing\n",
      "08:53:28 - cmdstanpy - INFO - Chain [1] start processing\n",
      "08:53:28 - cmdstanpy - INFO - Chain [1] done processing\n",
      "08:53:28 - cmdstanpy - INFO - Chain [1] start processing\n",
      "08:53:28 - cmdstanpy - INFO - Chain [1] done processing\n",
      "08:53:29 - cmdstanpy - INFO - Chain [1] start processing\n",
      "08:53:29 - cmdstanpy - INFO - Chain [1] done processing\n",
      "08:53:29 - cmdstanpy - INFO - Chain [1] start processing\n",
      "08:53:29 - cmdstanpy - INFO - Chain [1] done processing\n",
      "08:53:30 - cmdstanpy - INFO - Chain [1] start processing\n",
      "08:53:30 - cmdstanpy - INFO - Chain [1] done processing\n",
      "08:53:30 - cmdstanpy - INFO - Chain [1] start processing\n",
      "08:53:30 - cmdstanpy - INFO - Chain [1] done processing\n",
      "08:53:30 - cmdstanpy - INFO - Chain [1] start processing\n",
      "08:53:31 - cmdstanpy - INFO - Chain [1] done processing\n",
      "08:53:31 - cmdstanpy - INFO - Chain [1] start processing\n",
      "08:53:31 - cmdstanpy - INFO - Chain [1] done processing\n",
      "08:53:32 - cmdstanpy - INFO - Chain [1] start processing\n",
      "08:53:32 - cmdstanpy - INFO - Chain [1] done processing\n",
      "08:53:32 - cmdstanpy - INFO - Chain [1] start processing\n",
      "08:53:32 - cmdstanpy - INFO - Chain [1] done processing\n",
      "08:53:33 - cmdstanpy - INFO - Chain [1] start processing\n",
      "08:53:33 - cmdstanpy - INFO - Chain [1] done processing\n",
      "08:53:33 - cmdstanpy - INFO - Chain [1] start processing\n",
      "08:53:33 - cmdstanpy - INFO - Chain [1] done processing\n",
      "08:53:33 - cmdstanpy - INFO - Chain [1] start processing\n",
      "08:53:34 - cmdstanpy - INFO - Chain [1] done processing\n",
      "08:53:34 - cmdstanpy - INFO - Chain [1] start processing\n",
      "08:53:34 - cmdstanpy - INFO - Chain [1] done processing\n",
      "08:53:34 - cmdstanpy - INFO - Chain [1] start processing\n",
      "08:53:35 - cmdstanpy - INFO - Chain [1] done processing\n",
      "08:53:35 - cmdstanpy - INFO - Chain [1] start processing\n",
      "08:53:35 - cmdstanpy - INFO - Chain [1] done processing\n",
      "08:53:35 - cmdstanpy - INFO - Chain [1] start processing\n",
      "08:53:35 - cmdstanpy - INFO - Chain [1] done processing\n",
      "08:53:36 - cmdstanpy - INFO - Chain [1] start processing\n",
      "08:53:36 - cmdstanpy - INFO - Chain [1] done processing\n",
      "08:53:36 - cmdstanpy - INFO - Chain [1] start processing\n",
      "08:53:36 - cmdstanpy - INFO - Chain [1] done processing\n"
     ]
    },
    {
     "name": "stdout",
     "output_type": "stream",
     "text": [
      "[LightGBM] [Info] Auto-choosing row-wise multi-threading, the overhead of testing was 0.002144 seconds.\n",
      "You can set `force_row_wise=true` to remove the overhead.\n",
      "And if memory is not enough, you can set `force_col_wise=true`.\n",
      "[LightGBM] [Info] Total Bins 1273\n",
      "[LightGBM] [Info] Number of data points in the train set: 43820, number of used features: 14\n",
      "[LightGBM] [Info] Start training from score 223.392948\n",
      "[LightGBM] [Warning] No further splits with positive gain, best gain: -inf\n",
      "[LightGBM] [Warning] No further splits with positive gain, best gain: -inf\n",
      "[LightGBM] [Warning] No further splits with positive gain, best gain: -inf\n",
      "[LightGBM] [Warning] No further splits with positive gain, best gain: -inf\n",
      "[LightGBM] [Warning] No further splits with positive gain, best gain: -inf\n",
      "[LightGBM] [Warning] No further splits with positive gain, best gain: -inf\n",
      "[LightGBM] [Warning] No further splits with positive gain, best gain: -inf\n",
      "[LightGBM] [Warning] No further splits with positive gain, best gain: -inf\n",
      "[LightGBM] [Warning] No further splits with positive gain, best gain: -inf\n",
      "[LightGBM] [Warning] No further splits with positive gain, best gain: -inf\n",
      "[LightGBM] [Warning] No further splits with positive gain, best gain: -inf\n",
      "[LightGBM] [Warning] No further splits with positive gain, best gain: -inf\n",
      "[LightGBM] [Warning] No further splits with positive gain, best gain: -inf\n",
      "[LightGBM] [Warning] No further splits with positive gain, best gain: -inf\n",
      "[LightGBM] [Warning] No further splits with positive gain, best gain: -inf\n",
      "[LightGBM] [Warning] No further splits with positive gain, best gain: -inf\n",
      "[LightGBM] [Warning] No further splits with positive gain, best gain: -inf\n",
      "[LightGBM] [Warning] No further splits with positive gain, best gain: -inf\n",
      "[LightGBM] [Warning] No further splits with positive gain, best gain: -inf\n",
      "[LightGBM] [Warning] No further splits with positive gain, best gain: -inf\n",
      "[LightGBM] [Warning] No further splits with positive gain, best gain: -inf\n",
      "[LightGBM] [Warning] No further splits with positive gain, best gain: -inf\n",
      "[LightGBM] [Warning] No further splits with positive gain, best gain: -inf\n",
      "[LightGBM] [Warning] No further splits with positive gain, best gain: -inf\n",
      "[LightGBM] [Warning] No further splits with positive gain, best gain: -inf\n",
      "[LightGBM] [Warning] No further splits with positive gain, best gain: -inf\n",
      "[LightGBM] [Warning] No further splits with positive gain, best gain: -inf\n",
      "[LightGBM] [Warning] No further splits with positive gain, best gain: -inf\n",
      "[LightGBM] [Warning] No further splits with positive gain, best gain: -inf\n",
      "[LightGBM] [Warning] No further splits with positive gain, best gain: -inf\n",
      "[LightGBM] [Warning] No further splits with positive gain, best gain: -inf\n",
      "[LightGBM] [Warning] No further splits with positive gain, best gain: -inf\n",
      "[LightGBM] [Warning] No further splits with positive gain, best gain: -inf\n",
      "[LightGBM] [Warning] No further splits with positive gain, best gain: -inf\n",
      "[LightGBM] [Warning] No further splits with positive gain, best gain: -inf\n",
      "[LightGBM] [Warning] No further splits with positive gain, best gain: -inf\n",
      "[LightGBM] [Warning] No further splits with positive gain, best gain: -inf\n",
      "[LightGBM] [Warning] No further splits with positive gain, best gain: -inf\n",
      "[LightGBM] [Warning] No further splits with positive gain, best gain: -inf\n",
      "[LightGBM] [Warning] No further splits with positive gain, best gain: -inf\n",
      "[LightGBM] [Warning] No further splits with positive gain, best gain: -inf\n",
      "[LightGBM] [Warning] No further splits with positive gain, best gain: -inf\n",
      "[LightGBM] [Warning] No further splits with positive gain, best gain: -inf\n",
      "[LightGBM] [Warning] No further splits with positive gain, best gain: -inf\n",
      "[LightGBM] [Warning] No further splits with positive gain, best gain: -inf\n",
      "[LightGBM] [Warning] No further splits with positive gain, best gain: -inf\n",
      "[LightGBM] [Warning] No further splits with positive gain, best gain: -inf\n",
      "[LightGBM] [Warning] No further splits with positive gain, best gain: -inf\n",
      "[LightGBM] [Warning] No further splits with positive gain, best gain: -inf\n",
      "[LightGBM] [Warning] No further splits with positive gain, best gain: -inf\n",
      "[LightGBM] [Warning] No further splits with positive gain, best gain: -inf\n",
      "[LightGBM] [Warning] No further splits with positive gain, best gain: -inf\n",
      "[LightGBM] [Warning] No further splits with positive gain, best gain: -inf\n",
      "[LightGBM] [Warning] No further splits with positive gain, best gain: -inf\n",
      "[LightGBM] [Warning] No further splits with positive gain, best gain: -inf\n",
      "[LightGBM] [Warning] No further splits with positive gain, best gain: -inf\n",
      "[LightGBM] [Warning] No further splits with positive gain, best gain: -inf\n",
      "[LightGBM] [Warning] No further splits with positive gain, best gain: -inf\n",
      "[LightGBM] [Warning] No further splits with positive gain, best gain: -inf\n",
      "[LightGBM] [Warning] No further splits with positive gain, best gain: -inf\n",
      "[LightGBM] [Warning] No further splits with positive gain, best gain: -inf\n",
      "[LightGBM] [Warning] No further splits with positive gain, best gain: -inf\n",
      "[LightGBM] [Warning] No further splits with positive gain, best gain: -inf\n",
      "[LightGBM] [Warning] No further splits with positive gain, best gain: -inf\n",
      "[LightGBM] [Warning] No further splits with positive gain, best gain: -inf\n",
      "[LightGBM] [Warning] No further splits with positive gain, best gain: -inf\n",
      "[LightGBM] [Warning] No further splits with positive gain, best gain: -inf\n",
      "[LightGBM] [Warning] No further splits with positive gain, best gain: -inf\n",
      "[LightGBM] [Info] Auto-choosing row-wise multi-threading, the overhead of testing was 0.002176 seconds.\n",
      "You can set `force_row_wise=true` to remove the overhead.\n",
      "And if memory is not enough, you can set `force_col_wise=true`.\n",
      "[LightGBM] [Info] Total Bins 1273\n",
      "[LightGBM] [Info] Number of data points in the train set: 43820, number of used features: 14\n",
      "[LightGBM] [Info] Start training from score 27.448631\n",
      "[LightGBM] [Warning] No further splits with positive gain, best gain: -inf\n",
      "[LightGBM] [Warning] No further splits with positive gain, best gain: -inf\n",
      "[LightGBM] [Warning] No further splits with positive gain, best gain: -inf\n",
      "[LightGBM] [Warning] No further splits with positive gain, best gain: -inf\n",
      "[LightGBM] [Warning] No further splits with positive gain, best gain: -inf\n",
      "[LightGBM] [Warning] No further splits with positive gain, best gain: -inf\n",
      "[LightGBM] [Warning] No further splits with positive gain, best gain: -inf\n",
      "[LightGBM] [Warning] No further splits with positive gain, best gain: -inf\n",
      "[LightGBM] [Warning] No further splits with positive gain, best gain: -inf\n",
      "[LightGBM] [Warning] No further splits with positive gain, best gain: -inf\n",
      "[LightGBM] [Warning] No further splits with positive gain, best gain: -inf\n",
      "[LightGBM] [Warning] No further splits with positive gain, best gain: -inf\n",
      "[LightGBM] [Warning] No further splits with positive gain, best gain: -inf\n",
      "[LightGBM] [Warning] No further splits with positive gain, best gain: -inf\n",
      "[LightGBM] [Warning] No further splits with positive gain, best gain: -inf\n",
      "[LightGBM] [Warning] No further splits with positive gain, best gain: -inf\n",
      "[LightGBM] [Warning] No further splits with positive gain, best gain: -inf\n",
      "[LightGBM] [Warning] No further splits with positive gain, best gain: -inf\n",
      "[LightGBM] [Warning] No further splits with positive gain, best gain: -inf\n",
      "[LightGBM] [Warning] No further splits with positive gain, best gain: -inf\n",
      "[LightGBM] [Warning] No further splits with positive gain, best gain: -inf\n",
      "[LightGBM] [Warning] No further splits with positive gain, best gain: -inf\n",
      "[LightGBM] [Warning] No further splits with positive gain, best gain: -inf\n",
      "[LightGBM] [Warning] No further splits with positive gain, best gain: -inf\n",
      "[LightGBM] [Warning] No further splits with positive gain, best gain: -inf\n",
      "[LightGBM] [Warning] No further splits with positive gain, best gain: -inf\n",
      "[LightGBM] [Warning] No further splits with positive gain, best gain: -inf\n",
      "[LightGBM] [Warning] No further splits with positive gain, best gain: -inf\n",
      "[LightGBM] [Warning] No further splits with positive gain, best gain: -inf\n",
      "[LightGBM] [Warning] No further splits with positive gain, best gain: -inf\n",
      "[LightGBM] [Warning] No further splits with positive gain, best gain: -inf\n",
      "[LightGBM] [Warning] No further splits with positive gain, best gain: -inf\n",
      "[LightGBM] [Warning] No further splits with positive gain, best gain: -inf\n",
      "[LightGBM] [Warning] No further splits with positive gain, best gain: -inf\n",
      "[LightGBM] [Warning] No further splits with positive gain, best gain: -inf\n",
      "[LightGBM] [Warning] No further splits with positive gain, best gain: -inf\n",
      "[LightGBM] [Warning] No further splits with positive gain, best gain: -inf\n",
      "[LightGBM] [Warning] No further splits with positive gain, best gain: -inf\n",
      "[LightGBM] [Warning] No further splits with positive gain, best gain: -inf\n",
      "[LightGBM] [Warning] No further splits with positive gain, best gain: -inf\n",
      "[LightGBM] [Warning] No further splits with positive gain, best gain: -inf\n",
      "[LightGBM] [Warning] No further splits with positive gain, best gain: -inf\n",
      "[LightGBM] [Warning] No further splits with positive gain, best gain: -inf\n",
      "[LightGBM] [Warning] No further splits with positive gain, best gain: -inf\n",
      "[LightGBM] [Warning] No further splits with positive gain, best gain: -inf\n",
      "[LightGBM] [Warning] No further splits with positive gain, best gain: -inf\n",
      "[LightGBM] [Warning] No further splits with positive gain, best gain: -inf\n",
      "[LightGBM] [Warning] No further splits with positive gain, best gain: -inf\n",
      "[LightGBM] [Warning] No further splits with positive gain, best gain: -inf\n",
      "[LightGBM] [Warning] No further splits with positive gain, best gain: -inf\n",
      "[LightGBM] [Warning] No further splits with positive gain, best gain: -inf\n",
      "[LightGBM] [Warning] No further splits with positive gain, best gain: -inf\n",
      "[LightGBM] [Warning] No further splits with positive gain, best gain: -inf\n",
      "[LightGBM] [Warning] No further splits with positive gain, best gain: -inf\n",
      "[LightGBM] [Warning] No further splits with positive gain, best gain: -inf\n",
      "[LightGBM] [Warning] No further splits with positive gain, best gain: -inf\n",
      "[LightGBM] [Warning] No further splits with positive gain, best gain: -inf\n",
      "[LightGBM] [Warning] No further splits with positive gain, best gain: -inf\n",
      "[LightGBM] [Warning] No further splits with positive gain, best gain: -inf\n",
      "[LightGBM] [Warning] No further splits with positive gain, best gain: -inf\n",
      "[LightGBM] [Warning] No further splits with positive gain, best gain: -inf\n",
      "[LightGBM] [Warning] No further splits with positive gain, best gain: -inf\n",
      "[LightGBM] [Warning] No further splits with positive gain, best gain: -inf\n",
      "[LightGBM] [Warning] No further splits with positive gain, best gain: -inf\n",
      "[LightGBM] [Warning] No further splits with positive gain, best gain: -inf\n",
      "[LightGBM] [Warning] No further splits with positive gain, best gain: -inf\n",
      "[LightGBM] [Warning] No further splits with positive gain, best gain: -inf\n",
      "[LightGBM] [Warning] No further splits with positive gain, best gain: -inf\n",
      "[LightGBM] [Warning] No further splits with positive gain, best gain: -inf\n",
      "[LightGBM] [Warning] No further splits with positive gain, best gain: -inf\n",
      "[LightGBM] [Warning] No further splits with positive gain, best gain: -inf\n",
      "[LightGBM] [Warning] No further splits with positive gain, best gain: -inf\n",
      "[LightGBM] [Warning] No further splits with positive gain, best gain: -inf\n",
      "[LightGBM] [Warning] No further splits with positive gain, best gain: -inf\n",
      "[LightGBM] [Warning] No further splits with positive gain, best gain: -inf\n",
      "[LightGBM] [Warning] No further splits with positive gain, best gain: -inf\n",
      "[LightGBM] [Warning] No further splits with positive gain, best gain: -inf\n",
      "Prophet + LightGBM RMSE Reservas: 57.67\n",
      "Prophet + LightGBM RMSE Cancelaciones: 12.62\n"
     ]
    }
   ],
   "source": [
    "import pandas as pd\n",
    "import numpy as np\n",
    "from prophet import Prophet\n",
    "from sklearn.preprocessing import LabelEncoder\n",
    "from sklearn.model_selection import train_test_split\n",
    "from sklearn.multioutput import MultiOutputRegressor\n",
    "from sklearn.metrics import mean_squared_error\n",
    "import lightgbm as lgb\n",
    "from datetime import timedelta\n",
    "from reportlab.lib.pagesizes import A4\n",
    "from reportlab.pdfgen import canvas\n",
    "from reportlab.platypus import Image as RLImage\n",
    "import os\n",
    "import matplotlib.pyplot as plt\n",
    "\n",
    "# 1. Cargar y preparar datos\n",
    "df = pd.read_csv(\"data/ocupacion_hotelera.csv\")\n",
    "df['fecha'] = pd.to_datetime(df['fecha'])\n",
    "df = df.sort_values(['hotel_nombre', 'fecha'])\n",
    "\n",
    "# 2. Crear y unir predicciones de Prophet por hotel\n",
    "df['prophet_yhat'] = np.nan\n",
    "\n",
    "for hotel in df['hotel_nombre'].unique():\n",
    "    df_hotel = df[df['hotel_nombre'] == hotel][['fecha', 'reservas_confirmadas']].rename(columns={'fecha': 'ds', 'reservas_confirmadas': 'y'})\n",
    "    if len(df_hotel) < 30:  # evitar errores con pocos datos\n",
    "        continue\n",
    "\n",
    "    modelo = Prophet(daily_seasonality=True, weekly_seasonality=True, yearly_seasonality=True)\n",
    "    modelo.fit(df_hotel)\n",
    "\n",
    "    future = modelo.make_future_dataframe(periods=0)\n",
    "    forecast = modelo.predict(future)\n",
    "\n",
    "    df.loc[df['hotel_nombre'] == hotel, 'prophet_yhat'] = forecast['yhat'].values\n",
    "\n",
    "# 3. Eliminar filas sin predicción Prophet\n",
    "df = df.dropna(subset=['prophet_yhat'])\n",
    "\n",
    "# 4. Features adicionales\n",
    "df['anio'] = df['fecha'].dt.year\n",
    "df['mes'] = df['fecha'].dt.month\n",
    "df['dia'] = df['fecha'].dt.day\n",
    "df['dia_semana'] = df['fecha'].dt.dayofweek\n",
    "\n",
    "le = LabelEncoder()\n",
    "df['hotel_id'] = le.fit_transform(df['hotel_nombre'])\n",
    "\n",
    "# Lags\n",
    "df['reservas_lag1'] = df.groupby('hotel_id')['reservas_confirmadas'].shift(1)\n",
    "df['cancelaciones_lag1'] = df.groupby('hotel_id')['cancelaciones'].shift(1)\n",
    "\n",
    "# Festivos simulados\n",
    "festivos = pd.to_datetime(['2019-01-01', '2019-12-25', '2020-01-01', '2020-12-25'])\n",
    "df['es_festivo'] = df['fecha'].isin(festivos).astype(int)\n",
    "df['es_fin_de_semana'] = df['dia_semana'].isin([5, 6]).astype(int)\n",
    "df['hay_evento_local'] = df.groupby('hotel_id')['fecha'].transform(lambda x: (np.random.randint(0, 10, size=len(x)) == 0).astype(int))\n",
    "\n",
    "# Feature interacción\n",
    "df['precio_por_ocupacion'] = df['precio_promedio_noche'] / (df['tasa_ocupacion'] + 1)\n",
    "\n",
    "# Eliminar NaNs\n",
    "df = df.dropna()\n",
    "\n",
    "# 5. Selección de features\n",
    "features = [\n",
    "    'anio', 'mes', 'dia', 'dia_semana', 'hotel_id',\n",
    "    'tasa_ocupacion', 'precio_promedio_noche',\n",
    "    'reservas_lag1', 'cancelaciones_lag1',\n",
    "    'es_festivo', 'es_fin_de_semana', 'hay_evento_local',\n",
    "    'precio_por_ocupacion', 'prophet_yhat'  # <-- aquí está la magia\n",
    "]\n",
    "X = df[features]\n",
    "y = df[['reservas_confirmadas', 'cancelaciones']]\n",
    "\n",
    "# 6. Entrenamiento\n",
    "X_train, X_test, y_train, y_test = train_test_split(X, y, test_size=0.2, random_state=42)\n",
    "\n",
    "modelo = MultiOutputRegressor(\n",
    "    lgb.LGBMRegressor(\n",
    "        objective='regression',\n",
    "        n_estimators=100,\n",
    "        max_depth=5,\n",
    "        learning_rate=0.1,\n",
    "        random_state=42\n",
    "    )\n",
    ")\n",
    "\n",
    "modelo.fit(X_train, y_train)\n",
    "\n",
    "# 7. Evaluación\n",
    "y_pred = modelo.predict(X_test)\n",
    "rmse_reservas = np.sqrt(mean_squared_error(y_test['reservas_confirmadas'], y_pred[:, 0]))\n",
    "rmse_cancelaciones = np.sqrt(mean_squared_error(y_test['cancelaciones'], y_pred[:, 1]))\n",
    "\n",
    "print(f\"Prophet + LightGBM RMSE Reservas: {rmse_reservas:.2f}\")\n",
    "print(f\"Prophet + LightGBM RMSE Cancelaciones: {rmse_cancelaciones:.2f}\")\n"
   ]
  },
  {
   "cell_type": "code",
   "execution_count": null,
   "metadata": {},
   "outputs": [
    {
     "name": "stderr",
     "output_type": "stream",
     "text": [
      "09:00:04 - cmdstanpy - INFO - Chain [1] start processing\n"
     ]
    },
    {
     "name": "stdout",
     "output_type": "stream",
     "text": [
      "Procesando: Alletra Boutique Hotel\n"
     ]
    },
    {
     "name": "stderr",
     "output_type": "stream",
     "text": [
      "09:00:04 - cmdstanpy - INFO - Chain [1] done processing\n",
      "09:00:05 - cmdstanpy - INFO - Chain [1] start processing\n"
     ]
    },
    {
     "name": "stdout",
     "output_type": "stream",
     "text": [
      "Procesando: Alletra Diamond Grand Hotel\n"
     ]
    },
    {
     "name": "stderr",
     "output_type": "stream",
     "text": [
      "09:00:05 - cmdstanpy - INFO - Chain [1] done processing\n",
      "09:00:06 - cmdstanpy - INFO - Chain [1] start processing\n"
     ]
    },
    {
     "name": "stdout",
     "output_type": "stream",
     "text": [
      "Procesando: Alletra Haven\n"
     ]
    },
    {
     "name": "stderr",
     "output_type": "stream",
     "text": [
      "09:00:06 - cmdstanpy - INFO - Chain [1] done processing\n"
     ]
    },
    {
     "name": "stdout",
     "output_type": "stream",
     "text": [
      "Procesando: Alletra Resort\n"
     ]
    },
    {
     "name": "stderr",
     "output_type": "stream",
     "text": [
      "09:00:06 - cmdstanpy - INFO - Chain [1] start processing\n",
      "09:00:06 - cmdstanpy - INFO - Chain [1] done processing\n",
      "09:00:07 - cmdstanpy - INFO - Chain [1] start processing\n"
     ]
    },
    {
     "name": "stdout",
     "output_type": "stream",
     "text": [
      "Procesando: Apollo Diamond Suites\n"
     ]
    },
    {
     "name": "stderr",
     "output_type": "stream",
     "text": [
      "09:00:07 - cmdstanpy - INFO - Chain [1] done processing\n",
      "09:00:08 - cmdstanpy - INFO - Chain [1] start processing\n"
     ]
    },
    {
     "name": "stdout",
     "output_type": "stream",
     "text": [
      "Procesando: Apollo Executive Beach Resort\n"
     ]
    },
    {
     "name": "stderr",
     "output_type": "stream",
     "text": [
      "09:00:08 - cmdstanpy - INFO - Chain [1] done processing\n",
      "09:00:08 - cmdstanpy - INFO - Chain [1] start processing\n"
     ]
    },
    {
     "name": "stdout",
     "output_type": "stream",
     "text": [
      "Procesando: Apollo Resort & Spa\n"
     ]
    },
    {
     "name": "stderr",
     "output_type": "stream",
     "text": [
      "09:00:08 - cmdstanpy - INFO - Chain [1] done processing\n",
      "09:00:09 - cmdstanpy - INFO - Chain [1] start processing\n"
     ]
    },
    {
     "name": "stdout",
     "output_type": "stream",
     "text": [
      "Procesando: Apollo Towers\n"
     ]
    },
    {
     "name": "stderr",
     "output_type": "stream",
     "text": [
      "09:00:09 - cmdstanpy - INFO - Chain [1] done processing\n",
      "09:00:10 - cmdstanpy - INFO - Chain [1] start processing\n",
      "09:00:10 - cmdstanpy - INFO - Chain [1] done processing\n"
     ]
    },
    {
     "name": "stdout",
     "output_type": "stream",
     "text": [
      "Procesando: Aruba Lodge\n"
     ]
    },
    {
     "name": "stderr",
     "output_type": "stream",
     "text": [
      "09:00:10 - cmdstanpy - INFO - Chain [1] start processing\n"
     ]
    },
    {
     "name": "stdout",
     "output_type": "stream",
     "text": [
      "Procesando: Aruba Luxury Lodge\n"
     ]
    },
    {
     "name": "stderr",
     "output_type": "stream",
     "text": [
      "09:00:10 - cmdstanpy - INFO - Chain [1] done processing\n",
      "09:00:11 - cmdstanpy - INFO - Chain [1] start processing\n"
     ]
    },
    {
     "name": "stdout",
     "output_type": "stream",
     "text": [
      "Procesando: Cray Villas\n"
     ]
    },
    {
     "name": "stderr",
     "output_type": "stream",
     "text": [
      "09:00:11 - cmdstanpy - INFO - Chain [1] done processing\n",
      "09:00:12 - cmdstanpy - INFO - Chain [1] start processing\n"
     ]
    },
    {
     "name": "stdout",
     "output_type": "stream",
     "text": [
      "Procesando: Ezmeral Grand Hotel\n"
     ]
    },
    {
     "name": "stderr",
     "output_type": "stream",
     "text": [
      "09:00:12 - cmdstanpy - INFO - Chain [1] done processing\n",
      "09:00:12 - cmdstanpy - INFO - Chain [1] start processing\n"
     ]
    },
    {
     "name": "stdout",
     "output_type": "stream",
     "text": [
      "Procesando: GreenLake Digital Business Suites\n"
     ]
    },
    {
     "name": "stderr",
     "output_type": "stream",
     "text": [
      "09:00:13 - cmdstanpy - INFO - Chain [1] done processing\n",
      "09:00:13 - cmdstanpy - INFO - Chain [1] start processing\n"
     ]
    },
    {
     "name": "stdout",
     "output_type": "stream",
     "text": [
      "Procesando: GreenLake Platinum Heritage Inn\n"
     ]
    },
    {
     "name": "stderr",
     "output_type": "stream",
     "text": [
      "09:00:13 - cmdstanpy - INFO - Chain [1] done processing\n",
      "09:00:14 - cmdstanpy - INFO - Chain [1] start processing\n"
     ]
    },
    {
     "name": "stdout",
     "output_type": "stream",
     "text": [
      "Procesando: InfoSight Boutique Hotel\n"
     ]
    },
    {
     "name": "stderr",
     "output_type": "stream",
     "text": [
      "09:00:14 - cmdstanpy - INFO - Chain [1] done processing\n",
      "09:00:15 - cmdstanpy - INFO - Chain [1] start processing\n"
     ]
    },
    {
     "name": "stdout",
     "output_type": "stream",
     "text": [
      "Procesando: Nimble Inn\n"
     ]
    },
    {
     "name": "stderr",
     "output_type": "stream",
     "text": [
      "09:00:15 - cmdstanpy - INFO - Chain [1] done processing\n",
      "09:00:15 - cmdstanpy - INFO - Chain [1] start processing\n"
     ]
    },
    {
     "name": "stdout",
     "output_type": "stream",
     "text": [
      "Procesando: Pointnext Signature Residences & Suites\n"
     ]
    },
    {
     "name": "stderr",
     "output_type": "stream",
     "text": [
      "09:00:15 - cmdstanpy - INFO - Chain [1] done processing\n",
      "09:00:16 - cmdstanpy - INFO - Chain [1] start processing\n"
     ]
    },
    {
     "name": "stdout",
     "output_type": "stream",
     "text": [
      "Procesando: Primera Grand\n"
     ]
    },
    {
     "name": "stderr",
     "output_type": "stream",
     "text": [
      "09:00:16 - cmdstanpy - INFO - Chain [1] done processing\n",
      "09:00:17 - cmdstanpy - INFO - Chain [1] start processing\n"
     ]
    },
    {
     "name": "stdout",
     "output_type": "stream",
     "text": [
      "Procesando: ProLiant Haven\n"
     ]
    },
    {
     "name": "stderr",
     "output_type": "stream",
     "text": [
      "09:00:17 - cmdstanpy - INFO - Chain [1] done processing\n"
     ]
    },
    {
     "name": "stdout",
     "output_type": "stream",
     "text": [
      "Procesando: ProLiant Place\n"
     ]
    },
    {
     "name": "stderr",
     "output_type": "stream",
     "text": [
      "09:00:18 - cmdstanpy - INFO - Chain [1] start processing\n",
      "09:00:18 - cmdstanpy - INFO - Chain [1] done processing\n",
      "09:00:18 - cmdstanpy - INFO - Chain [1] start processing\n"
     ]
    },
    {
     "name": "stdout",
     "output_type": "stream",
     "text": [
      "Procesando: ProLiant Towers\n"
     ]
    },
    {
     "name": "stderr",
     "output_type": "stream",
     "text": [
      "09:00:18 - cmdstanpy - INFO - Chain [1] done processing\n",
      "09:00:19 - cmdstanpy - INFO - Chain [1] start processing\n"
     ]
    },
    {
     "name": "stdout",
     "output_type": "stream",
     "text": [
      "Procesando: Simplivity Golden Plaza Hotel\n"
     ]
    },
    {
     "name": "stderr",
     "output_type": "stream",
     "text": [
      "09:00:19 - cmdstanpy - INFO - Chain [1] done processing\n",
      "09:00:20 - cmdstanpy - INFO - Chain [1] start processing\n"
     ]
    },
    {
     "name": "stdout",
     "output_type": "stream",
     "text": [
      "Procesando: Synergy Golden Grand Hotel\n"
     ]
    },
    {
     "name": "stderr",
     "output_type": "stream",
     "text": [
      "09:00:20 - cmdstanpy - INFO - Chain [1] done processing\n",
      "09:00:20 - cmdstanpy - INFO - Chain [1] start processing\n"
     ]
    },
    {
     "name": "stdout",
     "output_type": "stream",
     "text": [
      "Procesando: dHCI Executive Boutique Hotel\n"
     ]
    },
    {
     "name": "stderr",
     "output_type": "stream",
     "text": [
      "09:00:20 - cmdstanpy - INFO - Chain [1] done processing\n",
      "09:00:21 - cmdstanpy - INFO - Chain [1] start processing\n"
     ]
    },
    {
     "name": "stdout",
     "output_type": "stream",
     "text": [
      "Procesando: dHCI Platinum Beach Resort\n"
     ]
    },
    {
     "name": "stderr",
     "output_type": "stream",
     "text": [
      "09:00:21 - cmdstanpy - INFO - Chain [1] done processing\n"
     ]
    },
    {
     "name": "stdout",
     "output_type": "stream",
     "text": [
      "PNGs generados en la carpeta: predicciones_pdfs\n"
     ]
    }
   ],
   "source": [
    "# Crear carpeta para los resultados\n",
    "os.makedirs(\"predicciones_png\", exist_ok=True)\n",
    "\n",
    "# Cargar datos históricos\n",
    "df_hist = df\n",
    "df_hist['fecha'] = pd.to_datetime(df_hist['fecha'])\n",
    "df_hist = df_hist.sort_values(['hotel_nombre', 'fecha'])\n",
    "\n",
    "# Bucle por cada hotel\n",
    "for hotel in df_hist['hotel_nombre'].unique():\n",
    "    print(f\"Procesando: {hotel}\")\n",
    "\n",
    "    df_hotel = df_hist[df_hist['hotel_nombre'] == hotel]\n",
    "    if len(df_hotel) < 60:\n",
    "        print(f\"Saltado: {hotel} (datos insuficientes)\")\n",
    "        continue\n",
    "\n",
    "    df_prophet = df_hotel[['fecha', 'reservas_confirmadas']].rename(columns={'fecha': 'ds', 'reservas_confirmadas': 'y'})\n",
    "    modelo_prophet = Prophet(daily_seasonality=True)\n",
    "    modelo_prophet.fit(df_prophet)\n",
    "\n",
    "    future = modelo_prophet.make_future_dataframe(periods=30)\n",
    "    forecast = modelo_prophet.predict(future)\n",
    "\n",
    "    # Crear dataframe para LightGBM\n",
    "    df_future = forecast[['ds', 'yhat']].rename(columns={'ds': 'fecha', 'yhat': 'prophet_yhat'})\n",
    "    df_future = df_future[df_future['fecha'] > df_hotel['fecha'].max()].copy()\n",
    "    df_future['hotel_nombre'] = hotel\n",
    "    df_future['hotel_id'] = le.transform([hotel])[0]\n",
    "\n",
    "    # Simular features\n",
    "    df_future['anio'] = df_future['fecha'].dt.year\n",
    "    df_future['mes'] = df_future['fecha'].dt.month\n",
    "    df_future['dia'] = df_future['fecha'].dt.day\n",
    "    df_future['dia_semana'] = df_future['fecha'].dt.dayofweek\n",
    "    df_future['es_festivo'] = df_future['fecha'].dt.strftime(\"%m-%d\").isin([\"01-01\", \"12-25\"]).astype(int)\n",
    "    df_future['es_fin_de_semana'] = df_future['dia_semana'].isin([5, 6]).astype(int)\n",
    "    df_future['hay_evento_local'] = np.random.choice([0, 1], size=len(df_future))\n",
    "\n",
    "    # Agregar últimos valores\n",
    "    last = df_hotel.iloc[-1]\n",
    "    df_future['reservas_lag1'] = last['reservas_confirmadas']\n",
    "    df_future['cancelaciones_lag1'] = last['cancelaciones']\n",
    "    df_future['tasa_ocupacion'] = last['tasa_ocupacion']\n",
    "    df_future['precio_promedio_noche'] = last['precio_promedio_noche']\n",
    "    df_future['precio_por_ocupacion'] = df_future['precio_promedio_noche'] / (df_future['tasa_ocupacion'] + 1)\n",
    "\n",
    "    # Features para LightGBM\n",
    "    features = [\n",
    "        'anio', 'mes', 'dia', 'dia_semana', 'hotel_id',\n",
    "        'tasa_ocupacion', 'precio_promedio_noche',\n",
    "        'reservas_lag1', 'cancelaciones_lag1',\n",
    "        'es_festivo', 'es_fin_de_semana', 'hay_evento_local',\n",
    "        'precio_por_ocupacion', 'prophet_yhat'\n",
    "    ]\n",
    "\n",
    "    # Predicción\n",
    "    X_future = df_future[features]\n",
    "    pred = modelo.predict(X_future)\n",
    "    df_future['reservas_lightgbm'] = pred[:, 0]\n",
    "    df_future['cancelaciones_lightgbm'] = pred[:, 1]\n",
    "\n",
    "    # Guardar gráfico\n",
    "    plt.figure(figsize=(10, 4))\n",
    "    plt.plot(df_future['fecha'], df_future['prophet_yhat'], '--', label='Prophet (baseline)')\n",
    "    plt.plot(df_future['fecha'], df_future['reservas_lightgbm'], label='LightGBM (reservas)', linewidth=2)\n",
    "    plt.plot(df_future['fecha'], df_future['cancelaciones_lightgbm'], label='LightGBM (cancelaciones)', linewidth=2)\n",
    "    plt.title(f\"Predicción - {hotel}\")\n",
    "    plt.xlabel(\"Fecha\")\n",
    "    plt.ylabel(\"Cantidad\")\n",
    "    plt.legend()\n",
    "    plt.tight_layout()\n",
    "\n",
    "    plot_path = f\"predicciones_png/{hotel}_plot.png\"\n",
    "    plt.savefig(plot_path)\n",
    "    plt.close()\n",
    "\n",
    "    # Crear PNG\n",
    "    png_path = f\"predicciones_png/hotel_{df_future['hotel_id'].iloc[0]}.pdf\"\n",
    "    c = canvas.Canvas(png_path, pagesize=A4)\n",
    "    width, height = A4\n",
    "\n",
    "    c.setFont(\"Helvetica-Bold\", 16)\n",
    "    c.drawString(50, height - 50, f\"Predicción de demanda hotelera\")\n",
    "    c.setFont(\"Helvetica\", 12)\n",
    "    c.drawString(50, height - 75, f\"Hotel: {hotel}\")\n",
    "    c.drawString(50, height - 95, f\"Periodo: {df_future['fecha'].min().date()} a {df_future['fecha'].max().date()}\")\n",
    "\n",
    "    # Insertar imagen\n",
    "    c.drawImage(plot_path, 50, height - 400, width=500, preserveAspectRatio=True)\n",
    "\n",
    "    # Insertar tabla (resumen primeras 5 filas)\n",
    "    y_start = height - 420\n",
    "    c.setFont(\"Helvetica\", 10)\n",
    "    for i, row in df_future.head(5).iterrows():\n",
    "        texto = f\"{row['fecha'].date()} - Reservas: {int(row['reservas_lightgbm'])} - Cancelaciones: {int(row['cancelaciones_lightgbm'])}\"\n",
    "        c.drawString(50, y_start - (i * 15), texto)\n",
    "\n",
    "    c.save()\n",
    "\n",
    "print(\"PNGs generados en la carpeta: predicciones_pdfs\")\n"
   ]
  }
 ],
 "metadata": {
  "kernelspec": {
   "display_name": "Python 3",
   "language": "python",
   "name": "python3"
  },
  "language_info": {
   "codemirror_mode": {
    "name": "ipython",
    "version": 3
   },
   "file_extension": ".py",
   "mimetype": "text/x-python",
   "name": "python",
   "nbconvert_exporter": "python",
   "pygments_lexer": "ipython3",
   "version": "3.12.1"
  }
 },
 "nbformat": 4,
 "nbformat_minor": 2
}
